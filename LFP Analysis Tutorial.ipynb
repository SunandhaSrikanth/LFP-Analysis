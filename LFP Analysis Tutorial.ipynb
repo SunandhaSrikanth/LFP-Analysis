{
 "cells": [
  {
   "cell_type": "markdown",
   "metadata": {},
   "source": [
    "# LFP Signal Processing Tutorial\n",
    "\n",
    "In this tutorial, you will learn the basics of LFP signal processing.\n",
    "\n",
    "Have fun!"
   ]
  },
  {
   "cell_type": "markdown",
   "metadata": {},
   "source": [
    "## Import packages that we need"
   ]
  },
  {
   "cell_type": "code",
   "execution_count": null,
   "metadata": {},
   "outputs": [],
   "source": [
    "import numpy as np\n",
    "from scipy.signal import butter, lfilter, hilbert, cwt, morlet2, decimate, spectrogram, find_peaks\n",
    "from scipy import stats\n",
    "from scipy.io import loadmat\n",
    "import matplotlib.pyplot as plt\n"
   ]
  },
  {
   "cell_type": "markdown",
   "metadata": {},
   "source": [
    "## Load data\n",
    "\n",
    "LFP data from the CA1 region of the hippocampus has been provided. Let's load the data first. "
   ]
  },
  {
   "cell_type": "code",
   "execution_count": null,
   "metadata": {},
   "outputs": [],
   "source": [
    "#load data\n",
    "lfp = loadmat('Session1_nostim.mat')\n",
    "lfp_nostim = {'sample': lfp['cscDataNew_NS']['sample'][0][0].flatten(),\n",
    "              'ts':lfp['cscDataNew_NS']['timestamps'][0][0].flatten(),\n",
    "              'fs': lfp['cscDataNew_NS']['Fs'][0][0].flatten()}"
   ]
  },
  {
   "cell_type": "markdown",
   "metadata": {},
   "source": [
    "## Pre-processing\n",
    "The data provided is of sampling frequency 500Hz. We want to downsample to 100Hz to reduce computational resources. It is important to low-pass filter our signal prior to downsampling in order to prevent aliasing effects. Once we downsample to 100Hz, we can analyze frequencies upto the Nyquist frequency of 50Hz. The function decimate in scipy.signal accomplishes this in one go! We use a zero-phase filter to make sure that we don't lose phase information while decimating the signal. \n",
    "NOTE: Don't forget to downsample the time array and update the sampling frequency!"
   ]
  },
  {
   "cell_type": "code",
   "execution_count": null,
   "metadata": {},
   "outputs": [],
   "source": [
    "#Signal downsampling\n",
    "data_ds = decimate(lfp_nostim['sample'], q=5, n=8, ftype='fir', zero_phase=True)\n",
    "time_ds = lfp_nostim['ts'][::5]\n",
    "time_ds = time_ds - time_ds[0]\n",
    "fs_ds = lfp_nostim['fs']/5"
   ]
  },
  {
   "cell_type": "markdown",
   "metadata": {},
   "source": [
    "## Visualization of oscillations\n",
    "To visualize oscillations in a frequency band, let us bandpass filter our signal in the frequency band of interest. A Hilbert transform can be used to obtain phase estimates of our signal, as well as obtain amplitude envelopes. Instantaneous phase estimates are better if we use a narrow frequency range. \n",
    "\n",
    "Notice the edge effects. In dealing with real data, have a buffer of data on either side of the time range of interest, to avoid edge effects."
   ]
  },
  {
   "cell_type": "code",
   "execution_count": null,
   "metadata": {},
   "outputs": [],
   "source": [
    "def butter_bandpass(lowcut, highcut, fs, order=5):\n",
    "    nyq = 0.5 * fs\n",
    "    low = lowcut / nyq\n",
    "    high = highcut / nyq\n",
    "    b, a = butter(order, [low, high], btype='band')\n",
    "    return b, a\n",
    "\n",
    "\n",
    "def butter_bandpass_filter(data, lowcut, highcut, fs, order=5):\n",
    "    b, a = butter_bandpass(lowcut, highcut, fs, order=order)\n",
    "    y = lfilter(b, a, data)\n",
    "    return y\n",
    "\n",
    "lowcut = 6.\n",
    "highcut = 10.\n",
    "\n",
    "y = butter_bandpass_filter(data_ds, lowcut, highcut, fs_ds, order=6)\n",
    "analyticSignal = hilbert(y)\n",
    "amplitudeEvelope = np.abs(analyticSignal)\n",
    "phase_angles = np.angle(analyticSignal)\n",
    "\n",
    "plt.figure(figsize=(15,5))\n",
    "plt.plot(time_ds[:500], y[:500])\n",
    "plt.plot(time_ds[:500], amplitudeEvelope[:500],'r')\n",
    "plt.legend(['Filtered LFP','Amplitude Envelope'])\n",
    "plt.ylabel('Amplitude')\n",
    "plt.xlabel('Time (sec)')\n",
    "\n",
    "plt.figure(figsize=(15,5))\n",
    "plt.plot(time_ds[:500], phase_angles[:500])\n",
    "plt.legend(['Phase estimates'])\n",
    "plt.ylabel('Phase')\n",
    "plt.xlabel('Time (sec)')"
   ]
  },
  {
   "cell_type": "markdown",
   "metadata": {},
   "source": [
    "## Spectrogram\n",
    "\n",
    "Time-frequency spectrograms quantify the power of oscillations in different frequencies and across time. Here, we perform a wavelet transform using a morlet wavelet. Let us look at a morlet wavelet.\n"
   ]
  },
  {
   "cell_type": "code",
   "execution_count": null,
   "metadata": {},
   "outputs": [],
   "source": [
    "M=100 #length of wavelet\n",
    "w=6. #width parameter recommended to be >=5\n",
    "f=8 #center frequency in hz\n",
    "fs=100 #sampling frequency\n",
    "s=w*fs/(2*f*np.pi) #width of wavelet\n",
    "wavelet = morlet2(M, s, w) #wavelet is complex\n",
    "plt.plot(np.real(wavelet)) #plot real part of wavelet\n",
    "plt.plot(abs(wavelet)) #plot wavelet amplitude envelope\n",
    "plt.show()"
   ]
  },
  {
   "cell_type": "markdown",
   "metadata": {},
   "source": [
    "We can now compute the time-frequency spectrogram."
   ]
  },
  {
   "cell_type": "code",
   "execution_count": null,
   "metadata": {},
   "outputs": [],
   "source": [
    "def compute_spectrogram(data, fs, freqrange, w=6):\n",
    "    #################################\n",
    "    #Computes the time-frequency spectrogram using the continuous wavelet transform. Uses morlet wavelet.\n",
    "    #data: LFP samples\n",
    "    #fs: Sampling frequency of LFP sample\n",
    "    #freqrange: Tuple of lower and upper bound of frequencies (lower,upper)\n",
    "    #w: width of morlet wavelet to use. Default 6\n",
    "    #Returns phase estimates and power\n",
    "    #################################\n",
    "    \n",
    "    freqs = np.linspace(freqrange[0], freqrange[1], 30)\n",
    "    s = w*fs / (2*freqs*np.pi) #widths at different frequencies of interest\n",
    "    power = cwt(data, morlet2, s, w=w)\n",
    "    cwtm_phase = np.angle(power)\n",
    "    cwtm_power = np.abs(power)\n",
    "    \n",
    "    return cwtm_power, cwtm_phase, freqs\n",
    "\n",
    "freqrange = (1,20) #specify freqrange as a tuple of (low, high)\n",
    "cwtm_power, cwtm_phase, freqs = compute_spectrogram(data_ds, fs_ds, freqrange, w=6)"
   ]
  },
  {
   "cell_type": "code",
   "execution_count": null,
   "metadata": {},
   "outputs": [],
   "source": [
    "#Plot the spectrogram\n",
    "plt.pcolormesh(time_ds[:5000], freqs, cwtm_power[:,:5000], cmap='jet') #only plot first 50 seconds\n",
    "plt.ylabel('Frequency (Hz)')\n",
    "plt.xlabel('Time (sec)')\n",
    "plt.title('Spectrogram')\n",
    "plt.clim([0,300]) #set the color limits\n",
    "plt.colorbar()\n",
    "plt.show()"
   ]
  },
  {
   "cell_type": "markdown",
   "metadata": {},
   "source": [
    "## Analysis of prominent frequencies\n",
    "\n",
    "Which is the most prominent oscillation across time? Average the spectrogram along the time axis and calculate the peak frequency."
   ]
  },
  {
   "cell_type": "code",
   "execution_count": null,
   "metadata": {},
   "outputs": [],
   "source": [
    "time_avg_power = cwtm_power.mean(1)\n",
    "peak_ind,_ = find_peaks(time_avg_power)\n",
    "peak_freq = freqs[peak_ind]\n",
    "plt.figure()\n",
    "plt.plot(freqs, time_avg_power)\n",
    "plt.plot(freqs[peak_ind], time_avg_power[peak_ind],'r*')\n",
    "plt.xlabel('Frequency (Hz)')\n",
    "plt.ylabel('Power')"
   ]
  },
  {
   "cell_type": "markdown",
   "metadata": {},
   "source": [
    "## Compute coherence spectra"
   ]
  },
  {
   "cell_type": "code",
   "execution_count": null,
   "metadata": {},
   "outputs": [],
   "source": [
    "def compute_coherence(phase_data1, phase_data2, fs):\n",
    "    assert phase_data1.shape == phase_data2.shape\n",
    "    phase_difference = phase_data1-phase_data2\n",
    "    phase_coherence = np.sqrt(np.mean(np.sin(phase_difference), axis=1) **2 + np.mean(np.cos(phase_difference), axis=1) **2)\n",
    "    mean_phase = stats.circmean(phase_difference, high=np.pi, low=-np.pi, axis=1)\n",
    "    return phase_coherence, mean_phase\n",
    "\n",
    "phase_coherence, mean_phase=compute_coherence(cwtm_phase, cwtm_phase+np.pi, fs_ds)\n",
    "plt.figure()\n",
    "plt.plot(freqs,phase_coherence)"
   ]
  },
  {
   "cell_type": "code",
   "execution_count": null,
   "metadata": {},
   "outputs": [],
   "source": [
    "f, t, Sxx = spectrogram(data_ds, fs_ds)\n",
    "plt.pcolormesh(t, f, Sxx)\n",
    "plt.ylabel('Frequency [Hz]')\n",
    "plt.xlabel('Time [sec]')\n",
    "plt.clim([0,3000])\n",
    "plt.colorbar()\n",
    "plt.show()"
   ]
  },
  {
   "cell_type": "code",
   "execution_count": null,
   "metadata": {},
   "outputs": [],
   "source": []
  }
 ],
 "metadata": {
  "kernelspec": {
   "display_name": "Python 3",
   "language": "python",
   "name": "python3"
  },
  "language_info": {
   "codemirror_mode": {
    "name": "ipython",
    "version": 3
   },
   "file_extension": ".py",
   "mimetype": "text/x-python",
   "name": "python",
   "nbconvert_exporter": "python",
   "pygments_lexer": "ipython3",
   "version": "3.7.6"
  }
 },
 "nbformat": 4,
 "nbformat_minor": 4
}
